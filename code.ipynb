{
 "cells": [
  {
   "cell_type": "markdown",
   "metadata": {},
   "source": [
    "<h1><center><strong>CNN Model for Image Classification of Skin Lesions</strong> <br> (Melanoma, Nevus, Seborrheic-Keratosis)</center></h1>"
   ]
  },
  {
   "cell_type": "markdown",
   "metadata": {},
   "source": [
    "## **Importing Liabraries**"
   ]
  },
  {
   "cell_type": "code",
   "execution_count": null,
   "metadata": {},
   "outputs": [],
   "source": [
    "import numpy as np\n",
    "import tensorflow as tf\n",
    "from tensorflow import keras\n",
    "from tensorflow.keras.models import Sequential, load_model\n",
    "from tensorflow.keras.layers import Dense, Dropout, Flatten, Conv2D, MaxPooling2D, ZeroPadding2D\n",
    "from tensorflow.keras.preprocessing.image import ImageDataGenerator\n",
    "from tensorflow.keras.optimizers import Adam\n",
    "from tensorflow.keras.optimizers.legacy import SGD\n",
    "from sklearn.model_selection import StratifiedKFold\n",
    "from sklearn.metrics import confusion_matrix\n",
    "import random\n",
    "import matplotlib.pyplot as plt\n",
    "import itertools\n",
    "import os\n",
    "import pandas as pd"
   ]
  },
  {
   "cell_type": "markdown",
   "metadata": {},
   "source": [
    "## **Data Path Setup**"
   ]
  },
  {
   "cell_type": "code",
   "execution_count": null,
   "metadata": {},
   "outputs": [],
   "source": [
    "train_path = 'data/skin-lesions/train/'\n",
    "test_path = 'data/skin-lesions/test/'\n",
    "valid_path = 'data/skin-lesions/valid/'"
   ]
  },
  {
   "cell_type": "markdown",
   "metadata": {},
   "source": [
    "## **Data Setup & Preparation**"
   ]
  },
  {
   "cell_type": "code",
   "execution_count": null,
   "metadata": {},
   "outputs": [],
   "source": [
    "train_batches = ImageDataGenerator(preprocessing_function=tf.keras.applications.vgg19.preprocess_input).flow_from_directory(directory=train_path, target_size=(224,224), classes=['melanoma', 'nevus', 'seborrheic_keratosis'], batch_size=10)\n",
    "\n",
    "valid_batches = ImageDataGenerator(preprocessing_function=tf.keras.applications.vgg19.preprocess_input).flow_from_directory(directory=valid_path, target_size=(224,224), classes=['melanoma', 'nevus', 'seborrheic_keratosis'], batch_size=10)\n",
    "\n",
    "test_batches = ImageDataGenerator(preprocessing_function=tf.keras.applications.vgg19.preprocess_input).flow_from_directory(directory=test_path, target_size=(224,224), classes=['melanoma', 'nevus', 'seborrheic_keratosis'], batch_size=10, shuffle=False) # shuffle=False to keep labels in same order as test set at time of accuracy calculation"
   ]
  },
  {
   "cell_type": "markdown",
   "metadata": {},
   "source": [
    "## **Class Imbalance**"
   ]
  },
  {
   "cell_type": "code",
   "execution_count": null,
   "metadata": {},
   "outputs": [],
   "source": [
    "num_melanoma = len(os.listdir(train_path + 'melanoma'))\n",
    "num_nevus = len(os.listdir(train_path + 'nevus'))\n",
    "num_seborrheic_keratosis = len(os.listdir(train_path + 'seborrheic_keratosis'))\n",
    "\n",
    "print('Number of melanoma images: ', num_melanoma)\n",
    "print('Number of nevus images: ', num_nevus)\n",
    "print('Number of seborrheic keratosis images: ', num_seborrheic_keratosis)"
   ]
  },
  {
   "cell_type": "markdown",
   "metadata": {},
   "source": [
    "## **Data Augmentation**"
   ]
  },
  {
   "cell_type": "code",
   "execution_count": null,
   "metadata": {},
   "outputs": [],
   "source": [
    "num_gen_melanoma = 100 # number of images to generate for melanoma class in order to balance the dataset\n",
    "\n",
    "def dataAugMelanoma():\n",
    "\n",
    "    gen_mel = ImageDataGenerator(\n",
    "        rotation_range=10,\n",
    "        width_shift_range=0.1,\n",
    "        height_shift_range=0.1,\n",
    "        horizontal_flip=True,\n",
    "        vertical_flip=True,\n",
    "        fill_mode='nearest',\n",
    "        shear_range=0.15,\n",
    "        zoom_range=0.1,\n",
    "        channel_shift_range=10.0,\n",
    "    )\n",
    "\n",
    "    folder_path = 'data/skin-lesions/train/melanoma/'\n",
    "\n",
    "    for i in range(num_gen_melanoma):\n",
    "        chosen_image = random.choice(os.listdir(folder_path))\n",
    "        image_path = folder_path + chosen_image\n",
    "        assert os.path.isfile(image_path)\n",
    "        image = np.expand_dims(plt.imread(image_path), 0)\n",
    "        aug_iter = gen_mel.flow(image)\n",
    "        aug_images = [next(aug_iter)[0].astype(np.uint8) for i in range(1)]\n",
    "        for aug_image in aug_images:\n",
    "            plt.imsave(folder_path + 'aug/' + 'aug_' + str(i + 816) + '.jpg', aug_image)\n",
    "            \n",
    "    print('Number of melanoma images after augmentation: ', len(os.listdir(folder_path)))\n",
    "    \n",
    "    return pd.DataFrame({'filepath': [os.path.join(folder_path, img) for img in os.listdir(folder_path)], 'label': '0'})"
   ]
  },
  {
   "cell_type": "code",
   "execution_count": null,
   "metadata": {},
   "outputs": [],
   "source": [
    "num_gen_seb = 112 # number of images to generate for seborrheic keratosis class in order to balance the dataset\n",
    "\n",
    "def dataAugSeb():\n",
    "    \n",
    "    gen_seb = ImageDataGenerator(\n",
    "        rotation_range=10,\n",
    "        width_shift_range=0.1,\n",
    "        height_shift_range=0.1,\n",
    "        horizontal_flip=True,\n",
    "        vertical_flip=True,\n",
    "        fill_mode='nearest',\n",
    "        shear_range=0.15,\n",
    "        zoom_range=0.1,\n",
    "        channel_shift_range=10.0,\n",
    "    )\n",
    "\n",
    "    folder_path = 'data/skin-lesions/train/seborrheic_keratosis/'\n",
    "\n",
    "    for i in range(num_gen_seb):\n",
    "        chosen_image = random.choice(os.listdir(folder_path))\n",
    "        image_path = folder_path + chosen_image\n",
    "        assert os.path.isfile(image_path)\n",
    "        image = np.expand_dims(plt.imread(image_path), 0)\n",
    "        aug_iter = gen_seb.flow(image)\n",
    "        aug_images = [next(aug_iter)[0].astype(np.uint8) for i in range(1)]\n",
    "        for aug_image in aug_images:\n",
    "            plt.imsave(folder_path + 'aug/' + 'aug_' + str(i + 644) + '.jpg', aug_image)\n",
    "            \n",
    "    print('Number of seborrheic keratosis images after augmentation: ', len(os.listdir(folder_path)))\n",
    "    \n",
    "    return pd.DataFrame({'filepath': [os.path.join(folder_path, img) for img in os.listdir(folder_path)], 'label': '2'})"
   ]
  },
  {
   "cell_type": "code",
   "execution_count": null,
   "metadata": {},
   "outputs": [],
   "source": [
    "random_images = []\n",
    "for class_name in train_batches.class_indices.keys():\n",
    "    class_index = train_batches.class_indices[class_name]\n",
    "    class_indices = np.where(train_batches.classes == class_index)[0]\n",
    "    selected_indices = random.sample(list(class_indices), min(10, len(class_indices)))\n",
    "    for i in selected_indices:\n",
    "        random_images.append(train_batches.filepaths[i])\n",
    "\n",
    "\n",
    "print()\n",
    "print('Random Images from Training Set:')\n",
    "print()\n",
    "\n",
    "# Plot the images\n",
    "fig, axes = plt.subplots(nrows=10, ncols=3, figsize=(10, 30))\n",
    "for i, image_path in enumerate(random_images):\n",
    "    j = 0\n",
    "    if i < 10:\n",
    "        j = 0\n",
    "    elif i < 20 and i > 9:\n",
    "        j = 1\n",
    "    else:\n",
    "        j = 2\n",
    "        \n",
    "    i = i % 10\n",
    "    img = plt.imread(image_path)\n",
    "    axes[i, j].imshow(img)\n",
    "    axes[i, j].axis('off')\n",
    "    axes[i, j].set_title(image_path.split('/')[-1].split('\\\\')[0])\n",
    "    \n",
    "plt.tight_layout()\n",
    "plt.show()\n"
   ]
  },
  {
   "cell_type": "markdown",
   "metadata": {},
   "source": [
    "## **Building a Sequential CNN Model**"
   ]
  },
  {
   "cell_type": "code",
   "execution_count": null,
   "metadata": {},
   "outputs": [],
   "source": [
    "model = Sequential([\n",
    "    \n",
    "    Conv2D(filters=64, kernel_size=(3, 3), activation='relu', padding = 'same', input_shape=(224, 224, 3)),\n",
    "    Conv2D(filters=64, kernel_size=(3, 3), activation='relu', padding = 'same'),\n",
    "    MaxPooling2D(pool_size=(2, 2)),\n",
    "    \n",
    "    Conv2D(filters=128, kernel_size=(3, 3), activation='relu', padding = 'same'),\n",
    "    Conv2D(filters=128, kernel_size=(3, 3), activation='relu', padding = 'same'),\n",
    "    Conv2D(filters=128, kernel_size=(3, 3), activation='relu', padding = 'same'),\n",
    "    MaxPooling2D(pool_size=(2, 2)),\n",
    "    \n",
    "    Conv2D(filters=256, kernel_size=(3, 3), activation='relu', padding = 'same'),\n",
    "    Conv2D(filters=256, kernel_size=(3, 3), activation='relu', padding = 'same'),\n",
    "    Conv2D(filters=256, kernel_size=(3, 3), activation='relu', padding = 'same'),\n",
    "    MaxPooling2D(pool_size=(2, 2)),\n",
    "    \n",
    "    Conv2D(filters=512, kernel_size=(3, 3), activation='relu', padding = 'same'),\n",
    "    Conv2D(filters=512, kernel_size=(3, 3), activation='relu', padding = 'same'),\n",
    "    Conv2D(filters=512, kernel_size=(3, 3), activation='relu', padding = 'same'),\n",
    "    MaxPooling2D(pool_size=(2, 2)),\n",
    "    \n",
    "    Conv2D(filters=512, kernel_size=(3, 3), activation='relu', padding = 'same'),\n",
    "    Conv2D(filters=512, kernel_size=(3, 3), activation='relu', padding = 'same'),\n",
    "    Conv2D(filters=512, kernel_size=(3, 3), activation='relu', padding = 'same'),\n",
    "    MaxPooling2D(pool_size=(2, 2)),\n",
    "    \n",
    "    Flatten(),\n",
    "    \n",
    "    Dense(256, activation='relu'),\n",
    "    Dropout(0.3),\n",
    "    \n",
    "    Dense(256, activation='relu'),\n",
    "    Dropout(0.3),\n",
    "    \n",
    "    Dense(256, activation='relu'),\n",
    "    Dropout(0.3),\n",
    "    \n",
    "    Dense(256, activation='relu'),\n",
    "    Dropout(0.3),\n",
    "    \n",
    "    Dense(16, activation='relu', kernel_regularizer=tf.keras.regularizers.l2(0.01)),\n",
    "    \n",
    "    Dense(8, activation='relu', kernel_regularizer=tf.keras.regularizers.l2(0.01)),\n",
    "    \n",
    "    Dense(4, activation='relu', kernel_regularizer=tf.keras.regularizers.l2(0.01)),\n",
    "    \n",
    "    Dense(units=3, activation='softmax'),\n",
    "])"
   ]
  },
  {
   "cell_type": "code",
   "execution_count": null,
   "metadata": {},
   "outputs": [],
   "source": [
    "model.summary()"
   ]
  },
  {
   "cell_type": "code",
   "execution_count": null,
   "metadata": {},
   "outputs": [],
   "source": [
    "model.compile(optimizer=Adam(learning_rate=0.0001), loss='categorical_crossentropy', metrics=['accuracy'])"
   ]
  },
  {
   "cell_type": "markdown",
   "metadata": {},
   "source": [
    "## **k-Cross Fold Validation**"
   ]
  },
  {
   "cell_type": "code",
   "execution_count": null,
   "metadata": {},
   "outputs": [],
   "source": [
    "k = 10 # number of folds\n",
    "\n",
    "skf = StratifiedKFold(n_splits=k, shuffle=True, random_state=42)\n",
    "\n",
    "acc_per_fold = []\n",
    "\n",
    "fold_no = 1\n",
    "\n",
    "while fold_no <= k:\n",
    "    print('------------------------------------------------------------------------')\n",
    "    print(f'Training for fold {fold_no} ...')\n",
    "    \n",
    "    x_train, x_test = train_batches, test_batches\n",
    "    \n",
    "    filepaths = x_train.filepaths\n",
    "    labels = x_train.labels\n",
    "    \n",
    "    df1 = pd.DataFrame({\"filepath\": filepaths, \"label\": labels})\n",
    "    \n",
    "    # data augmentation\n",
    "    df2 = dataAugMelanoma()\n",
    "    df3 = dataAugSeb()\n",
    "    \n",
    "    df = pd.concat([df1, df2, df3], ignore_index=True)\n",
    "    \n",
    "    x_train = ImageDataGenerator(preprocessing_function=tf.keras.applications.vgg19.preprocess_input).flow_from_dataframe(dataframe=df, x_col=\"filepath\", y_col=\"label\", target_size=(224,224), batch_size=10)\n",
    "    \n",
    "    train_batches.next() # move to next batch\n",
    "    test_batches.next()\n",
    "        \n",
    "    # Fit data to model\n",
    "    history = model.fit(x_train, validation_data=valid_batches, batch_size=10, epochs=15, verbose=1)\n",
    "    \n",
    "    scores = model.evaluate(x_test, verbose=0)\n",
    "    print(f'Score for fold {fold_no}: {model.metrics_names[0]} of {scores[0]}; {model.metrics_names[1]} of {scores[1]*100}%')\n",
    "    acc_per_fold.append(scores[1] * 100)\n",
    "    \n",
    "    # clear folder files\n",
    "    folder_path = 'data/skin-lesions/train/melanoma/aug/'\n",
    "    for file in os.listdir(folder_path):\n",
    "        os.remove(os.path.join(folder_path, file))\n",
    "    \n",
    "    folder_path = 'data/skin-lesions/train/seborrheic_keratosis/aug/'\n",
    "    for file in os.listdir(folder_path):\n",
    "        os.remove(os.path.join(folder_path, file))\n",
    "    \n",
    "    fold_no = fold_no + 1\n",
    "    \n",
    "print('------------------------------------------------------------------------')\n",
    "print('Score per fold')\n",
    "for i in range(0, len(acc_per_fold)):\n",
    "    print('------------------------------------------------------------------------')\n",
    "    print(f'> Fold {i+1} - Loss: {acc_per_fold[i]}%')\n",
    "    \n",
    "print('------------------------------------------------------------------------')\n",
    "\n",
    "print('Average scores for all folds:')\n",
    "print(f'> Accuracy: {np.mean(acc_per_fold)} (+- {np.std(acc_per_fold)})')"
   ]
  },
  {
   "cell_type": "markdown",
   "metadata": {},
   "source": [
    "## **Loss v/s Epoch Plot**"
   ]
  },
  {
   "cell_type": "code",
   "execution_count": null,
   "metadata": {},
   "outputs": [],
   "source": [
    "plt.plot(model.history.history['loss'], label='train loss')\n",
    "plt.plot(model.history.history['val_loss'], label='val loss')\n",
    "plt.legend()\n",
    "plt.show()"
   ]
  },
  {
   "cell_type": "markdown",
   "metadata": {},
   "source": [
    "## **Saving Model HDF5 format**"
   ]
  },
  {
   "cell_type": "code",
   "execution_count": null,
   "metadata": {},
   "outputs": [],
   "source": [
    "import os.path\n",
    "\n",
    "if os.path.isfile('models/model_8.h5') is False:\n",
    "    model.save('models/model_8.h5')"
   ]
  },
  {
   "cell_type": "markdown",
   "metadata": {},
   "source": [
    "# **Loading Saved Model**"
   ]
  },
  {
   "cell_type": "code",
   "execution_count": null,
   "metadata": {},
   "outputs": [],
   "source": [
    "model = load_model('models/model_11.h5')"
   ]
  },
  {
   "cell_type": "code",
   "execution_count": null,
   "metadata": {},
   "outputs": [],
   "source": [
    "model.summary()"
   ]
  },
  {
   "cell_type": "markdown",
   "metadata": {},
   "source": [
    "# **Predict Results**"
   ]
  },
  {
   "cell_type": "code",
   "execution_count": null,
   "metadata": {},
   "outputs": [],
   "source": [
    "predictions = model.predict(x=test_batches, verbose=1)"
   ]
  },
  {
   "cell_type": "code",
   "execution_count": null,
   "metadata": {},
   "outputs": [],
   "source": [
    "predictions"
   ]
  },
  {
   "cell_type": "code",
   "execution_count": null,
   "metadata": {},
   "outputs": [],
   "source": [
    "predictions = np.argmax(predictions, axis=-1)"
   ]
  },
  {
   "cell_type": "code",
   "execution_count": null,
   "metadata": {},
   "outputs": [],
   "source": [
    "predictions"
   ]
  },
  {
   "cell_type": "code",
   "execution_count": null,
   "metadata": {},
   "outputs": [],
   "source": [
    "# save predictions to csv\n",
    "import pandas as pd\n",
    "\n",
    "pred = pd.DataFrame(predictions)\n",
    "\n",
    "pred.to_csv('predictions_11.csv')"
   ]
  },
  {
   "cell_type": "code",
   "execution_count": null,
   "metadata": {},
   "outputs": [],
   "source": [
    "predictions = np.argmax(predictions, axis=-1)\n",
    "\n",
    "predictions"
   ]
  },
  {
   "cell_type": "code",
   "execution_count": null,
   "metadata": {},
   "outputs": [],
   "source": [
    "actuals = test_batches.classes\n",
    "\n",
    "actuals"
   ]
  },
  {
   "cell_type": "code",
   "execution_count": null,
   "metadata": {},
   "outputs": [],
   "source": [
    "accuracy = np.mean(predictions == actuals)\n",
    "\n",
    "accuracy"
   ]
  },
  {
   "cell_type": "markdown",
   "metadata": {},
   "source": [
    "# **Confusion Matrix**"
   ]
  },
  {
   "cell_type": "code",
   "execution_count": null,
   "metadata": {},
   "outputs": [],
   "source": [
    "cm = confusion_matrix(y_true=actuals, y_pred=predictions)"
   ]
  },
  {
   "cell_type": "code",
   "execution_count": null,
   "metadata": {},
   "outputs": [],
   "source": [
    "def plot_confusion_matrix(cm, classes, normalizer=False, title=\"Confusion Matrix\", cmap=plt.cm.Blues):\n",
    "    plt.imshow(cm, interpolation='nearest', cmap=cmap)\n",
    "    plt.title(title, fontdict={'size':14, 'weight':'bold'})\n",
    "    plt.colorbar()\n",
    "    tick_marks = np.arange(len(classes))\n",
    "    plt.xticks(tick_marks, classes, rotation=45)\n",
    "    plt.yticks(tick_marks, classes)\n",
    "    \n",
    "    if normalizer:\n",
    "        cm = cm.astype('float') / cm.sum(axis=1)[:, np.newaxis]\n",
    "    \n",
    "    thresh=cm.max() / 2.\n",
    "    \n",
    "    for i, j in itertools.product(range(cm.shape[0]), range(cm.shape[1])):\n",
    "        plt.text(j,i, cm[i,j],\n",
    "                horizontalalignment=\"center\",\n",
    "                color=\"white\" if cm[i,j] > thresh else \"black\")\n",
    "        plt.tight_layout()\n",
    "        plt.ylabel('True Label', fontdict={'size':14, 'weight':'bold'})\n",
    "        plt.xlabel('Predicted Label', fontdict={'size':14, 'weight':'bold'}) "
   ]
  },
  {
   "cell_type": "code",
   "execution_count": null,
   "metadata": {},
   "outputs": [],
   "source": [
    "cm_plot_labels = ['melanoma', 'nevus', 'seborrheic_keratosis']\n",
    "plot_confusion_matrix(cm=cm, classes=cm_plot_labels, title='Confusion Matrix')"
   ]
  }
 ],
 "metadata": {
  "kernelspec": {
   "display_name": "Python 3",
   "language": "python",
   "name": "python3"
  },
  "language_info": {
   "codemirror_mode": {
    "name": "ipython",
    "version": 3
   },
   "file_extension": ".py",
   "mimetype": "text/x-python",
   "name": "python",
   "nbconvert_exporter": "python",
   "pygments_lexer": "ipython3",
   "version": "3.10.8"
  }
 },
 "nbformat": 4,
 "nbformat_minor": 2
}
